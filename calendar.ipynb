{
  "nbformat": 4,
  "nbformat_minor": 0,
  "metadata": {
    "colab": {
      "provenance": [],
      "authorship_tag": "ABX9TyOSaINV7PaBbDcKVTiPU9+u",
      "include_colab_link": true
    },
    "kernelspec": {
      "name": "python3",
      "display_name": "Python 3"
    },
    "language_info": {
      "name": "python"
    }
  },
  "cells": [
    {
      "cell_type": "markdown",
      "metadata": {
        "id": "view-in-github",
        "colab_type": "text"
      },
      "source": [
        "<a href=\"https://colab.research.google.com/github/mminjjii/code_3rd/blob/main/calendar.ipynb\" target=\"_parent\"><img src=\"https://colab.research.google.com/assets/colab-badge.svg\" alt=\"Open In Colab\"/></a>"
      ]
    },
    {
      "cell_type": "code",
      "execution_count": 3,
      "metadata": {
        "colab": {
          "base_uri": "https://localhost:8080/"
        },
        "id": "-REZIPJiY5Lz",
        "outputId": "f0363820-4a76-4516-dad6-ddc71ed12d6b"
      },
      "outputs": [
        {
          "output_type": "stream",
          "name": "stdout",
          "text": [
            "    October 2023\n",
            "Mo Tu We Th Fr Sa Su\n",
            "                   1\n",
            " 2  3  4  5  6  7  8\n",
            " 9 10 11 12 13 14 15\n",
            "16 17 18 19 20 21 22\n",
            "23 24 25 26 27 28 29\n",
            "30 31\n",
            "\n"
          ]
        }
      ],
      "source": [
        "import calendar\n",
        "yy = 2023\n",
        "mm = 10\n",
        "print(calendar.month(yy,mm))"
      ]
    },
    {
      "cell_type": "markdown",
      "source": [
        "2023년 10월 19일 to do list\n",
        "-9:10~11:00 컴퓨팅적사고와 기초코딩\n",
        "-11:10~12:00 아동건강교육 수업\n",
        "-!2:10~5:30 시험공부\n",
        "-5:40~6:00 저녁식사\n",
        "\n"
      ],
      "metadata": {
        "id": "XLxPM3gla0Lg"
      }
    },
    {
      "cell_type": "code",
      "source": [
        "print(\"2023년 10월 19일 to do list\")\n",
        "print(\"9:10~11:00 컴퓨팅적사고와 기초코딩\")\n",
        "print(\"11:10~12:00 아동건강교육 수업\")\n",
        "print(\"12:10~5:30 시험공부\")\n",
        "print(\"5:40~6:00 저녁식사\")"
      ],
      "metadata": {
        "colab": {
          "base_uri": "https://localhost:8080/"
        },
        "id": "WHDr38CFd9nA",
        "outputId": "dc0b2b78-c5e0-43de-d869-007b0276be1b"
      },
      "execution_count": 13,
      "outputs": [
        {
          "output_type": "stream",
          "name": "stdout",
          "text": [
            "2023년 10월 19일 to do list\n",
            "9:10~11:00 컴퓨팅적사고와 기초코딩\n",
            "11:10~12:00 아동건강교육 수업\n",
            "12:10~5:30 시험공부\n",
            "5:40~6:00 저녁식사\n"
          ]
        }
      ]
    }
  ]
}