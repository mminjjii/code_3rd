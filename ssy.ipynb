{
  "nbformat": 4,
  "nbformat_minor": 0,
  "metadata": {
    "colab": {
      "provenance": [],
      "include_colab_link": true
    },
    "kernelspec": {
      "name": "python3",
      "display_name": "Python 3"
    },
    "language_info": {
      "name": "python"
    }
  },
  "cells": [
    {
      "cell_type": "markdown",
      "metadata": {
        "id": "view-in-github",
        "colab_type": "text"
      },
      "source": [
        "<a href=\"https://colab.research.google.com/github/mminjjii/code_3rd/blob/main/ssy.ipynb\" target=\"_parent\"><img src=\"https://colab.research.google.com/assets/colab-badge.svg\" alt=\"Open In Colab\"/></a>"
      ]
    },
    {
      "cell_type": "code",
      "execution_count": null,
      "metadata": {
        "colab": {
          "base_uri": "https://localhost:8080/"
        },
        "id": "qDmP5c11cvFd",
        "outputId": "655e36af-e5f1-41f5-d99c-bd16943b066a"
      },
      "outputs": [
        {
          "output_type": "stream",
          "name": "stdout",
          "text": [
            "정수 2개를 입력하시오.: \n"
          ]
        }
      ],
      "source": [
        "print(\"정수 2개를 입력하시오.: \")                          # 사용자에게 정수 2개를 입력하라는 안내 메시지 출력\n",
        "x = int(input('x의 값을 입력하시오.: '))                   # 사용자로부터 x의 값을 입력받아 정수로 변환하여 x 변수에 저장\n",
        "y = int(input('y의 값을 입력하시오.: '))                   # 사용자로부터 y의 값을 입력받아 정수로 변환하여 y 변수에 저장\n",
        "sum = x + y                                                # x와 y를 더한 값을 sum 변수에 저장\n",
        "print(sum)                                                 # sum 변수의 값을 출력\n",
        "print(f'정수 {x} + 정수 {y}의 값은 {sum}이다.')            # 계산식과 결과를 함께 출력하는 메시지 출력"
      ]
    },
    {
      "cell_type": "code",
      "source": [
        "print(\"상품의 가격을 입력하시오\")                          # 사용자에게 상품의 가격을 입력하라는 안내 메시지 출력\n",
        "price = int(input('상품의 가격: '))                        # 사용자로부터 상품의 가격을 입력받아 정수로 변환하여 price 변수에 저장\n",
        "vat = price * 0.1                                          # 상품 가격에 10%의 비율인 부가세를 계산하여 vat 변수에 저장\n",
        "print(vat)                                                 # 부가세(vat) 값을 출력\n",
        "print(f'상품의 가격은 {price}이며, 부가세는 {vat}이다. ')  # 상품 가격과 부가세를 함께 출력하는 메시지 출력"
      ],
      "metadata": {
        "id": "Uy-0Jrx2dkBq"
      },
      "execution_count": null,
      "outputs": []
    }
  ]
}