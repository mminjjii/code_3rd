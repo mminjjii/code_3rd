{
  "nbformat": 4,
  "nbformat_minor": 0,
  "metadata": {
    "colab": {
      "provenance": [],
      "include_colab_link": true
    },
    "kernelspec": {
      "name": "python3",
      "display_name": "Python 3"
    },
    "language_info": {
      "name": "python"
    }
  },
  "cells": [
    {
      "cell_type": "markdown",
      "metadata": {
        "id": "view-in-github",
        "colab_type": "text"
      },
      "source": [
        "<a href=\"https://colab.research.google.com/github/mminjjii/code_3rd/blob/main/CTBA_9.ipynb\" target=\"_parent\"><img src=\"https://colab.research.google.com/assets/colab-badge.svg\" alt=\"Open In Colab\"/></a>"
      ]
    },
    {
      "cell_type": "markdown",
      "source": [
        "1. 두가지 이상의 선택, 다방향 선택구조 코딩\n",
        " - 배송료 처리 3가지로 작성\n",
        " - 변수 : price, 가격 10만원 이상 0원, 2만원 이상 3000원, 그외 5천원"
      ],
      "metadata": {
        "id": "YIHwJaOmMwmi"
      }
    },
    {
      "cell_type": "code",
      "source": [
        "print(\"배송료를 계산합니다.\")                 # \"배송료를 계산합니다.\"를 출력합니다.\n",
        "print(\"#\" * 30)                               # \"#\" 문자를 30번 반복하여 출력합니다.\n",
        "price = int(input(\"구입금액 입력\"))           # 사용자에게 구입금액을 입력하라는 안내 메시지를 출력하고, 입력값을 정수로 변환하여 `price` 변수에 저장합니다.\n",
        "if price >= 100000:                           # 만약 `price`가 100000 이상이라면\n",
        "  shipping_cost = 0                           # 배송료를 0으로 설정합니다.\n",
        "else:                                         # 그렇지 않으면 (즉, `price`가 100000 미만이라면)\n",
        "  if price >= 20000:                          # 만약 `price`가 20000 이상이라면\n",
        "   shipping_cost = 3000                       # 배송료를 3000으로 설정합니다.\n",
        "  else:                                       # 그렇지 않으면 (즉, `price`가 20000 미만이라면)\n",
        "   shipping_cost = 5000                       # 배송료를 5000으로 설정합니다.\n",
        "print(f'배송료는 {shipping_cost}원 입니다.')  # 배송료를 출력합니다."
      ],
      "metadata": {
        "colab": {
          "base_uri": "https://localhost:8080/"
        },
        "id": "rwX86ZmeNHCZ",
        "outputId": "1592ef91-1be3-4722-99dc-c578ddba841a"
      },
      "execution_count": null,
      "outputs": [
        {
          "output_type": "stream",
          "name": "stdout",
          "text": [
            "배송료를 계산합니다.\n",
            "##############################\n",
            "구입금액 입력19000\n",
            "배송료는 5000원 입니다.\n"
          ]
        }
      ]
    },
    {
      "cell_type": "markdown",
      "source": [
        "2. 환영합니다. 5번출력, 10번 출력, 30번 출력"
      ],
      "metadata": {
        "id": "qPar5gW3OayK"
      }
    },
    {
      "cell_type": "code",
      "source": [
        "print (\"환영합니다.\")     # 4번 반복\n",
        "print (\"환영합니다.\")\n",
        "print (\"환영합니다.\")\n",
        "print (\"환영합니다.\")"
      ],
      "metadata": {
        "colab": {
          "base_uri": "https://localhost:8080/"
        },
        "id": "Zy1xnIC-OfZ6",
        "outputId": "e2af4eda-6784-41af-cf41-bb5ba392c3ff"
      },
      "execution_count": null,
      "outputs": [
        {
          "output_type": "stream",
          "name": "stdout",
          "text": [
            "환영합니다.\n",
            "환영합니다.\n",
            "환영합니다.\n",
            "환영합니다.\n"
          ]
        }
      ]
    },
    {
      "cell_type": "code",
      "source": [
        "print (\"환영합니다.wn\" * 5)"
      ],
      "metadata": {
        "colab": {
          "base_uri": "https://localhost:8080/"
        },
        "id": "B3nlN20UO3-y",
        "outputId": "53a68412-7434-459c-e51f-2d8ab9fcb121"
      },
      "execution_count": null,
      "outputs": [
        {
          "output_type": "stream",
          "name": "stdout",
          "text": [
            "환영합니다.wn환영합니다.wn환영합니다.wn환영합니다.wn환영합니다.wn\n"
          ]
        }
      ]
    },
    {
      "cell_type": "code",
      "source": [
        "count = 1                                      # 변수 `count`를 1로 초기화합니다.\n",
        "while count <= 5:                              # `count`가 5 이하인 동안 반복합니다.\n",
        "   print(\"(\", count, \")\", \"환영합니다.\")       # \"(\", `count`, \")\", \"환영합니다.\"을 출력합니다.\n",
        "   print(F'({count})',\" 환영합니다.\")          # `count`를 포함한 환영 메시지를 출력합니다.\n",
        "   #count = count + 1\n",
        "   count +=1                                   # `count`를 1 증가시킵니다."
      ],
      "metadata": {
        "colab": {
          "base_uri": "https://localhost:8080/"
        },
        "id": "PMCFderzSoYZ",
        "outputId": "ae345ac0-0237-4e66-e079-cff056aef073"
      },
      "execution_count": null,
      "outputs": [
        {
          "output_type": "stream",
          "name": "stdout",
          "text": [
            "( 1 ) 환영합니다.\n",
            "(1)  환영합니다.\n",
            "( 2 ) 환영합니다.\n",
            "(2)  환영합니다.\n",
            "( 3 ) 환영합니다.\n",
            "(3)  환영합니다.\n",
            "( 4 ) 환영합니다.\n",
            "(4)  환영합니다.\n",
            "( 5 ) 환영합니다.\n",
            "(5)  환영합니다.\n"
          ]
        }
      ]
    },
    {
      "cell_type": "markdown",
      "source": [
        "3. 0부터 9까지 출력하는 코드작성\n",
        " - 변수 : X"
      ],
      "metadata": {
        "id": "Og2HhFsaU4cS"
      }
    },
    {
      "cell_type": "code",
      "source": [
        "x = 0                      # 변수 `x`를 0으로 초기화합니다.\n",
        "while x < 10:              # `x`가 10보다 작은 동안 반복합니다.\n",
        "  print(x, end=' ')        # `x`를 출력하고 공백 문자로 끝을 나타냅니다.\n",
        "  x += 1                   # `x`를 1 증가시킵니다."
      ],
      "metadata": {
        "colab": {
          "base_uri": "https://localhost:8080/"
        },
        "id": "wYSr3WgSVD-N",
        "outputId": "df81676c-270e-463c-d726-1e2b4b280b25"
      },
      "execution_count": null,
      "outputs": [
        {
          "output_type": "stream",
          "name": "stdout",
          "text": [
            "0 1 2 3 4 5 6 7 8 9 "
          ]
        }
      ]
    },
    {
      "cell_type": "markdown",
      "source": [
        "4. 1부터 10까지 정수의 합을 계산하여 출력하는 코드"
      ],
      "metadata": {
        "id": "9te4mWCpYbgt"
      }
    },
    {
      "cell_type": "code",
      "source": [
        "x = 1                          # 변수 `x`를 1로 초기화합니다.\n",
        "total = 0                      # 변수 `total`을 0으로 초기화합니다.\n",
        "while x <= 10:                 # `x`가 10 이하인 동안 반복합니다.\n",
        "  total = total + x            # `total`에 `x`를 더한 값을 저장합니다.\n",
        "  x += 1                       # `x`를 1 증가시킵니다.\n",
        "print(total)                   # `total`을 출력합니다."
      ],
      "metadata": {
        "colab": {
          "base_uri": "https://localhost:8080/"
        },
        "id": "Qu6GzLfgYf8a",
        "outputId": "32d8d3ee-5a4f-41a1-f913-5afa6c5a204a"
      },
      "execution_count": null,
      "outputs": [
        {
          "output_type": "stream",
          "name": "stdout",
          "text": [
            "55\n"
          ]
        }
      ]
    },
    {
      "cell_type": "code",
      "source": [
        "x = 1\n",
        "while 1<="
      ],
      "metadata": {
        "id": "xsoYpv4hZH8s"
      },
      "execution_count": null,
      "outputs": []
    },
    {
      "cell_type": "markdown",
      "source": [
        "5. 3-6-9 게임(3의 배수 판단): 3의 배수를 3으로 나누면 나머지가 0이 되므로(i mod 3)의 값이 0이면 박수를 출력, 아니면 숫자를 출력해주는 코드작성  "
      ],
      "metadata": {
        "id": "C76TbgujVpWr"
      }
    },
    {
      "cell_type": "code",
      "source": [
        "i = 1                                                    # 변수 i는 0으로 선언\n",
        "while i <= 30:                                           # 반복문 while사용해서 i가 30보다 작거나 같을때\n",
        "  if i % 3 == 0:                                         # 만약 i값을 3으로 나눈 나머지가 0이면\n",
        "      print(\"박수\", end=' ')                             # 박수를 출력하고 공백을 하나 만듦                                                        #\n",
        "  else:                                                  # 위의 것이 아니면,\n",
        "      print(i, end=' ')                                  # i값만 출력하고 공백 하나 만듦\n",
        "  i += 1                                                 # 변수 i값에 i와 1를 더해서 다시 변수 i에 선언"
      ],
      "metadata": {
        "colab": {
          "base_uri": "https://localhost:8080/"
        },
        "id": "35HqNrtHWEGz",
        "outputId": "95087ef2-628b-4516-a980-4788f0452e17"
      },
      "execution_count": null,
      "outputs": [
        {
          "output_type": "stream",
          "name": "stdout",
          "text": [
            "1 2 박수 4 5 박수 7 8 박수 10 11 박수 13 14 박수 16 17 박수 19 20 박수 22 23 박수 25 26 박수 28 29 박수 "
          ]
        }
      ]
    },
    {
      "cell_type": "code",
      "source": [
        "for num in range(1, 11):                                # 1부터 11까지의 숫자를 반복\n",
        " if num % 3 == 0:                                       # 숫자(num)를 3으로 나눈 나머지가 0인 경우\n",
        "   print(\"박수\" , end=' ')                              # 박수를 출력하고 공백을 만듦\n",
        "else:                                                   # 그게 아니면\n",
        "   print(num, end=' ')                                  # 숫자만 출력하고 공백 만듦"
      ],
      "metadata": {
        "colab": {
          "base_uri": "https://localhost:8080/"
        },
        "id": "j6KYbQEbZPWa",
        "outputId": "fcd841fb-3b60-4751-9a33-86ac8d5c25b0"
      },
      "execution_count": null,
      "outputs": [
        {
          "output_type": "stream",
          "name": "stdout",
          "text": [
            "박수 박수 박수 10 "
          ]
        }
      ]
    },
    {
      "cell_type": "markdown",
      "source": [
        "6. 팩토리얼 계산하는 코드 작성"
      ],
      "metadata": {
        "id": "3KlvbHIQag0i"
      }
    },
    {
      "cell_type": "code",
      "source": [
        "i = 4                          # 변수 `i`를 4로 초기화합니다.\n",
        "factorial = 1                  # 변수 `factorial`을 1로 초기화합니다.\n",
        "while i >= 1:                  # `i`가 1 이상인 동안 반복합니다.\n",
        "  factorial = factorial * i    # `factorial`에 `i`를 곱한 값을 저장합니다.\n",
        "  i -= 1                       # `i`를 1 감소시킵니다.\n",
        "print(factorial)               # `factorial`을 출력합니다."
      ],
      "metadata": {
        "colab": {
          "base_uri": "https://localhost:8080/"
        },
        "id": "38gsvgtJagRM",
        "outputId": "e6763080-0c0d-430c-9e1c-c91e44cd9052"
      },
      "execution_count": null,
      "outputs": [
        {
          "output_type": "stream",
          "name": "stdout",
          "text": [
            "24\n"
          ]
        }
      ]
    },
    {
      "cell_type": "code",
      "source": [
        "num = int(input(\"팩토리얼 값입력: \"))       # 사용자로부터 정수 값을 입력받아 변수 `num`에 저장합니다.\n",
        "factorial = 1         # 변수 `factorial`을 1로 초기화합니다.\n",
        "while num >= 1:      # `num`이 1 이상인 동안 반복합니다.\n",
        "  factorial = factorial * num         # `factorial`에 `num`을 곱한 값을 저장합니다.\n",
        "  num -= 1            # `num`을 1 감소시킵니다.\n",
        "print(\"계산된 팩토리얼 값은 :\", factorial)   # 계산된 팩토리얼 값을 출력합니다."
      ],
      "metadata": {
        "colab": {
          "base_uri": "https://localhost:8080/"
        },
        "id": "VsQeZ6QYbjc2",
        "outputId": "c2950662-af79-47d2-ed56-ba5a327846f4"
      },
      "execution_count": null,
      "outputs": [
        {
          "output_type": "stream",
          "name": "stdout",
          "text": [
            "팩토리얼 값입력: 5\n",
            "계산된 팩토리얼 값은 : 120\n"
          ]
        }
      ]
    }
  ]
}