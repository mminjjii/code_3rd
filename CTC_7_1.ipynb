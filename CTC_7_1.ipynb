{
  "nbformat": 4,
  "nbformat_minor": 0,
  "metadata": {
    "colab": {
      "provenance": [],
      "authorship_tag": "ABX9TyNVRC6ltRcCCszHoVhfApEw",
      "include_colab_link": true
    },
    "kernelspec": {
      "name": "python3",
      "display_name": "Python 3"
    },
    "language_info": {
      "name": "python"
    }
  },
  "cells": [
    {
      "cell_type": "markdown",
      "metadata": {
        "id": "view-in-github",
        "colab_type": "text"
      },
      "source": [
        "<a href=\"https://colab.research.google.com/github/mminjjii/code_3rd/blob/main/CTC_7_1.ipynb\" target=\"_parent\"><img src=\"https://colab.research.google.com/assets/colab-badge.svg\" alt=\"Open In Colab\"/></a>"
      ]
    },
    {
      "cell_type": "markdown",
      "source": [
        "1. 사용자로부터 3개의 값(x,y,z)을 입력받아서 각각 1씩 증가되고, 출력되는 코드작성"
      ],
      "metadata": {
        "id": "WxLmC0xnHZ3_"
      }
    },
    {
      "cell_type": "code",
      "source": [
        "x = int(input( \"x의 값을 입력하시오,: \" ))\n",
        "y = int(input( \"y의 값을 입력하시오,: \" ))\n",
        "z = int(input( \"z의 값을 입력하시오,: \" ))\n",
        "x = x + 1\n",
        "y = y + 1\n",
        "z = z + 1\n",
        "print( f'x의 값은 (x)이며, y의 값은 (y)이고, z의 값은 4이다.')"
      ],
      "metadata": {
        "colab": {
          "base_uri": "https://localhost:8080/"
        },
        "id": "nyGfnyOrHsX6",
        "outputId": "11846526-5f39-4d66-a5df-bbad64c6b845"
      },
      "execution_count": 6,
      "outputs": [
        {
          "output_type": "stream",
          "name": "stdout",
          "text": [
            "x의 값을 입력하시오,: 1\n",
            "y의 값을 입력하시오,: 2\n",
            "z의 값을 입력하시오,: 3\n",
            "x의 값은 (x)이며, y의 값은 (y)이고, z의 값은 4이다.\n"
          ]
        }
      ]
    },
    {
      "cell_type": "markdown",
      "source": [
        "2 알바생의 시급과 시간을 계산하여 월급을 출력한 코드"
      ],
      "metadata": {
        "id": "t0dtpyYHJeTQ"
      }
    },
    {
      "cell_type": "code",
      "source": [
        "hours_worked = int(input(\" 일한 시간을 입력하시오 : \"))\n",
        "pay_rate = int(input(\"시급을 입력하시오(23기준 9620원): \"))\n",
        "monthly_pay = hours_worked * pay_rate\n",
        "print(f'일한시간은 {hours_worked}이고, 시급은 {pay_rate}이며, 월급여는 {monthly_pay}원 입니다. ')"
      ],
      "metadata": {
        "colab": {
          "base_uri": "https://localhost:8080/"
        },
        "id": "RdWzLnQGJj37",
        "outputId": "88b92ef6-de55-438c-b6c1-f5e57b91d3fa"
      },
      "execution_count": 26,
      "outputs": [
        {
          "output_type": "stream",
          "name": "stdout",
          "text": [
            " 일한 시간을 입력하시오 : 10\n",
            "시급을 입력하시오(23기준 9620원): 9620\n",
            "일한시간은 10이고, 시급은 9620이며, 월급여는 96200원 입니다. \n"
          ]
        }
      ]
    },
    {
      "cell_type": "markdown",
      "source": [
        "3.환율 계산하는 코드작성\n",
        "  \n",
        "  - 원의 변수는 won\n",
        "  - 달러의 변수는 used\n",
        "  - 환전의 변수는 exchange\n"
      ],
      "metadata": {
        "id": "UZ-yi11-NtKw"
      }
    },
    {
      "cell_type": "code",
      "source": [
        " won = int(input(\"환전할 금액을 입력(kor) \"))\n",
        " used = int(input(\"현재의 달러의 환율 입력(231031: 1372):\"))\n",
        " exchange = won // used\n",
        " print(f'환전할 금액은 {won}이며, 달러의 금액은 {used}이고, 환전금액은 {exchange}입니다. ')"
      ],
      "metadata": {
        "colab": {
          "base_uri": "https://localhost:8080/"
        },
        "id": "TP9kTv8_OQrI",
        "outputId": "ef56659f-63b5-4eb9-ab7a-e2d203b00a64"
      },
      "execution_count": 30,
      "outputs": [
        {
          "output_type": "stream",
          "name": "stdout",
          "text": [
            "환전할 금액을 입력(kor) 5000\n",
            "현재의 달러의 환율 입력(231031: 1372):1372\n",
            "환전할 금액은 5000이며, 달러의 금액은 1372이고, 환전금액은 3입니다. \n"
          ]
        }
      ]
    },
    {
      "cell_type": "markdown",
      "source": [
        "4.화씨(fahrenheit)를 섭씨(celcius)로 변환하는 코드작성\n"
      ],
      "metadata": {
        "id": "CwUF0-YcPsPI"
      }
    },
    {
      "cell_type": "code",
      "source": [
        " fahrenheit = int(input(\"화씨온도를 입력하시오,: \"))\n",
        " celcius = (fahrenheit - 32) / 1.8\n",
        " print(f'화씨 온도는 {fahrenheit}, 섭씨 {celcius}도 입니다.')"
      ],
      "metadata": {
        "colab": {
          "base_uri": "https://localhost:8080/"
        },
        "id": "D2rW5vZiP-A6",
        "outputId": "c3eba403-21ad-4650-9428-92bc4225c4e2"
      },
      "execution_count": 27,
      "outputs": [
        {
          "output_type": "stream",
          "name": "stdout",
          "text": [
            "화씨온도를 입력하시오,: 100\n",
            "화씨 온도는 100, 섭씨 37.77777777777778도 입니다.\n"
          ]
        }
      ]
    },
    {
      "cell_type": "code",
      "source": [
        " celcius = float(input(\"섭씨온도를 입력하시오 ,: \"))\n",
        " fahrenheit = (celcius * 1.8) + 32\n",
        " print(f'섭씨온도는 {celcius}도는, 화씨{fahrenheit}도 입니다.')"
      ],
      "metadata": {
        "colab": {
          "base_uri": "https://localhost:8080/"
        },
        "id": "qgKx3YoBQ3GI",
        "outputId": "396b9e05-0926-47b1-c61b-cc0288d2d20e"
      },
      "execution_count": 31,
      "outputs": [
        {
          "output_type": "stream",
          "name": "stdout",
          "text": [
            "섭씨온도를 입력하시오 ,: 37.77777777777778\n",
            "섭씨온도는 37.77777777777778도는, 화씨100.0도 입니다.\n"
          ]
        }
      ]
    }
  ]
}