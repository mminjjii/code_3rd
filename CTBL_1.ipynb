{
  "nbformat": 4,
  "nbformat_minor": 0,
  "metadata": {
    "colab": {
      "provenance": [],
      "authorship_tag": "ABX9TyNO1Z8npz5d+6E1b/p1Fugu",
      "include_colab_link": true
    },
    "kernelspec": {
      "name": "python3",
      "display_name": "Python 3"
    },
    "language_info": {
      "name": "python"
    }
  },
  "cells": [
    {
      "cell_type": "markdown",
      "metadata": {
        "id": "view-in-github",
        "colab_type": "text"
      },
      "source": [
        "<a href=\"https://colab.research.google.com/github/mminjjii/code_3rd/blob/main/CTBL_1.ipynb\" target=\"_parent\"><img src=\"https://colab.research.google.com/assets/colab-badge.svg\" alt=\"Open In Colab\"/></a>"
      ]
    },
    {
      "cell_type": "markdown",
      "source": [
        "1.학생으로부터 성적을 입력받아 합격유무를 출력하는 코드작성\n",
        " - 사용변수: Grade\n",
        " -사용수식: Grade >= 70:\n"
      ],
      "metadata": {
        "id": "T7zxUjED07sB"
      }
    },
    {
      "cell_type": "code",
      "source": [
        "Grade = int(input(\"성적입력\"))\n",
        "if Grade >= 70:\n",
        "   print(\"70점 이상이므로 합격\")\n",
        "else:\n",
        "   print(\"70점 이하이므로 불합격\")"
      ],
      "metadata": {
        "colab": {
          "base_uri": "https://localhost:8080/"
        },
        "id": "6joCr1Oz4F63",
        "outputId": "39391296-cb33-4d5c-f699-a56979747da9"
      },
      "execution_count": 23,
      "outputs": [
        {
          "output_type": "stream",
          "name": "stdout",
          "text": [
            "성적입력80\n",
            "70점 이상이므로 합격\n"
          ]
        }
      ]
    },
    {
      "cell_type": "markdown",
      "source": [
        "2. 쇼핑몰의 배송료를 계산하는 코드 작성\n",
        "  - 변수명 : print, shipping_cost\n",
        "  - 수식 : price >= 20000\n",
        "  - shipping_cost\n"
      ],
      "metadata": {
        "id": "SNeqVFWd3o7Q"
      }
    },
    {
      "cell_type": "code",
      "source": [
        "price = int(input(\"구입구매 입력: \"))\n",
        "if price >= 20000:\n",
        " shipping_cost = 0\n",
        " print(f' 구입금액이 {price}원 이상입니다. ' )\n",
        "else:\n",
        " shipping_cost = 3000\n",
        " print(\"구입금액이 2만원 이하입니다.\")\n",
        "print(f'회원님의 배송료는 {shipping_cost}입니다. ')\n"
      ],
      "metadata": {
        "colab": {
          "base_uri": "https://localhost:8080/"
        },
        "id": "P9KI-LmO42Bf",
        "outputId": "69f50c43-ea02-4bdf-ad1f-b27962d80f4b"
      },
      "execution_count": 26,
      "outputs": [
        {
          "output_type": "stream",
          "name": "stdout",
          "text": [
            "구입구매 입력: 20000\n",
            " 구입금액이 20000원 이상입니다. \n",
            "회원님의 배송료는 0입니다. \n"
          ]
        }
      ]
    },
    {
      "cell_type": "markdown",
      "source": [
        "3. 근무시간에 따라 초과근무와 정상근무를 판별하는 코드작성\n",
        " - 변수 : work_hour\n",
        " - 수식 : >=, 기준시간:72시간"
      ],
      "metadata": {
        "id": "TWb80xUK72tP"
      }
    },
    {
      "cell_type": "code",
      "source": [
        "work_hour = int(input(\"근무시간 입력: \"))\n",
        "if work_hour >= 72:\n",
        " print(\"초과근무 하였습니다.\")\n",
        "else:\n",
        " print(\"정상근무 하였습니다. \")\n"
      ],
      "metadata": {
        "colab": {
          "base_uri": "https://localhost:8080/"
        },
        "id": "r_C91Sjb8W4A",
        "outputId": "64c9fd41-80ed-471a-8ff1-d2faa796b6af"
      },
      "execution_count": 41,
      "outputs": [
        {
          "output_type": "stream",
          "name": "stdout",
          "text": [
            "근무시간 입력: 72\n",
            "초과근무 하였습니다.\n"
          ]
        }
      ]
    },
    {
      "cell_type": "markdown",
      "source": [
        "4. 정수를 입력받아서 짝수인지 홀수인지 관찰하는 코드 작성\n",
        "  - 변수: num\n",
        "  - 수식: (num% 2) != 0:"
      ],
      "metadata": {
        "id": "sBM0CEfl-RDH"
      }
    },
    {
      "cell_type": "code",
      "source": [
        "num = int(input(\"정수를 입력하시오. :\"))\n",
        "if (num% 2) != 0:\n",
        "  print (\"홀수입니다.\")\n",
        "else:\n",
        "  print (\"짝수입니다\")"
      ],
      "metadata": {
        "colab": {
          "base_uri": "https://localhost:8080/"
        },
        "id": "4UCmHXoa-qN2",
        "outputId": "2ff3af39-5c2b-4ac1-ec22-b615f3975ae9"
      },
      "execution_count": 39,
      "outputs": [
        {
          "output_type": "stream",
          "name": "stdout",
          "text": [
            "정수를 입력하시오. :4\n",
            "짝수입니다\n"
          ]
        }
      ]
    },
    {
      "cell_type": "markdown",
      "source": [
        "5.사용자의 이름과 나이를 입력받고, 답변하는 코드 작성\n",
        " - 입력: 성명 = name\n",
        " - 입력: 나이= age\n",
        " - 수식: if age <= 20:\n",
        "\n",
        " 최종출력물\n",
        "  - 이름을 입력하시오: 이팡이\n",
        "  - 나이를 입력하시오: 20\n",
        "  -(1) 프로그래밍을 배우는 최적의 나이 입니다.\n",
        "  -(2) 아직도 늦지 않았습니다. 도전정신\n"
      ],
      "metadata": {
        "id": "hZ-UUBTYAkyW"
      }
    },
    {
      "cell_type": "code",
      "source": [
        "name = input(\" 이름을 입력하시오.:\")\n",
        "age = int(input (\"나이를 입력하시오.:\"))\n",
        "if age <= 20:\n",
        " print(\"프로그래밍을 배우는 최적의 나이 입니다.\")\n",
        "else:\n",
        " print(\"아직도 늦지 않았습니다, 도전정신\")\n",
        "\n",
        "\n"
      ],
      "metadata": {
        "colab": {
          "base_uri": "https://localhost:8080/"
        },
        "id": "545qk5U3-827",
        "outputId": "a05f5a05-67ce-4d0e-d6a5-5afa818dd319"
      },
      "execution_count": 4,
      "outputs": [
        {
          "output_type": "stream",
          "name": "stdout",
          "text": [
            " 이름을 입력하시오.:이팡이\n",
            "나이를 입력하시오.:20\n",
            "프로그래밍을 배우는 최적의 나이 입니다.\n"
          ]
        }
      ]
    },
    {
      "cell_type": "code",
      "source": [
        "import random\n",
        "\n",
        "def generate_lotto_numbers():\n",
        "    \"\"\"\n",
        "    1부터 45까지의 숫자 중에서 중복되지 않는 6개의 숫자를 뽑아 로또 번호로 반환하는 함수입니다.\n",
        "    \"\"\"\n",
        "    lotto_numbers = []\n",
        "\n",
        "    while len(lotto_numbers) < 6:\n",
        "        number = random.randint(1, 45)  # 1부터 45까지의 숫자 중에서 임의의 숫자를 선택합니다.\n",
        "\n",
        "        if number not in lotto_numbers:  # 중복된 숫자가 아닌 경우에만 리스트에 추가합니다.\n",
        "            lotto_numbers.append(number)\n",
        "\n",
        "    return lotto_numbers\n",
        "\n",
        "lotto_numbers = generate_lotto_numbers()  # generate_lotto_numbers 함수를 호출하여 로또 번호를 생성합니다.\n",
        "print(\"로또 번호:\", lotto_numbers)  # 생성된 로또 번호를 출력합니다."
      ],
      "metadata": {
        "colab": {
          "base_uri": "https://localhost:8080/"
        },
        "id": "1L92cWpWFfCG",
        "outputId": "b9258422-b1aa-4fb0-8280-7e18c1306825"
      },
      "execution_count": 5,
      "outputs": [
        {
          "output_type": "stream",
          "name": "stdout",
          "text": [
            "로또 번호: [33, 4, 1, 2, 26, 29]\n"
          ]
        }
      ]
    },
    {
      "cell_type": "code",
      "source": [
        "def learn_programming(age):\n",
        "    \"\"\"\n",
        "    나이를 입력받아 프로그래밍을 배우는 최적의 나이인지, 도전 정신이 아직 늦지 않았는지 판단하는 함수입니다.\n",
        "    \"\"\"\n",
        "    if age < 18:\n",
        "        print(\"프로그래밍을 배우는 최적의 나이는 없습니다. 어린 시절부터 시작한다면 좋은 기반을 쌓을 수 있습니다.\")\n",
        "    else:\n",
        "        print(\"프로그래밍을 배우기에 늦은 나이는 없습니다. 중요한 것은 도전 정신과 열정입니다.\")\n",
        "\n",
        "# 나이를 입력받아 learn_programming 함수를 호출합니다.\n",
        "age = int(input(\"나이를 입력하세요: \"))\n",
        "learn_programming(age)"
      ],
      "metadata": {
        "colab": {
          "base_uri": "https://localhost:8080/"
        },
        "id": "RxEqgixuGoA3",
        "outputId": "ee3af02e-549f-42e8-bd3d-480512e272a6"
      },
      "execution_count": 6,
      "outputs": [
        {
          "output_type": "stream",
          "name": "stdout",
          "text": [
            "나이를 입력하세요: 20\n",
            "프로그래밍을 배우기에 늦은 나이는 없습니다. 중요한 것은 도전 정신과 열정입니다.\n"
          ]
        }
      ]
    }
  ]
}