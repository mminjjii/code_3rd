{
  "nbformat": 4,
  "nbformat_minor": 0,
  "metadata": {
    "colab": {
      "provenance": [],
      "authorship_tag": "ABX9TyOd02NSlZChMLCM2GgSHNwB",
      "include_colab_link": true
    },
    "kernelspec": {
      "name": "python3",
      "display_name": "Python 3"
    },
    "language_info": {
      "name": "python"
    }
  },
  "cells": [
    {
      "cell_type": "markdown",
      "metadata": {
        "id": "view-in-github",
        "colab_type": "text"
      },
      "source": [
        "<a href=\"https://colab.research.google.com/github/mminjjii/code_3rd/blob/main/CTAB_7_1.ipynb\" target=\"_parent\"><img src=\"https://colab.research.google.com/assets/colab-badge.svg\" alt=\"Open In Colab\"/></a>"
      ]
    },
    {
      "cell_type": "markdown",
      "source": [
        "1. 일한 시간과 시급을 계산하여 출력하는 코드\n",
        "- 일한시간(hours_worked)\n",
        "- 일한날짜(day_worked)\n",
        "- 시급(pay_rate)\n",
        "- 월급(monthly_pay)\n",
        "\n",
        "---\n",
        "\n"
      ],
      "metadata": {
        "id": "ji1xG4g9nwwr"
      }
    },
    {
      "cell_type": "code",
      "source": [
        "hours_worked = int(input(\"일한 시간을 입력하시오>:\"))\n",
        "pay_rate = int(input(\"시급을 입력하시오.(23년 시급 9620):\"))\n",
        "day_worked = int(input(\"일한 날짜를 입력하시오.:\"))\n",
        "day_month = hours_worked * day_worked\n",
        "monthly_pay = hours_worked * pay_rate * day_worked\n",
        "print(f'일한 시간은 {hours_worked}이며, 시급은 {pay_rate}이고, 월급여는 {monthly_pay}입니다.')\n"
      ],
      "metadata": {
        "colab": {
          "base_uri": "https://localhost:8080/"
        },
        "id": "3USZLCUHpD8M",
        "outputId": "986d0687-aecb-485a-8ab1-6bdb774521cd"
      },
      "execution_count": 5,
      "outputs": [
        {
          "output_type": "stream",
          "name": "stdout",
          "text": [
            "일한 시간을 입력하시오>:10\n",
            "시급을 입력하시오.(23년 시급 9620):9620\n",
            "일한 날짜를 입력하시오.:25\n",
            "일한 시간은 10이며, 시급은 9620이고, 월급여는 2405000입니다.\n"
          ]
        }
      ]
    },
    {
      "cell_type": "code",
      "source": [],
      "metadata": {
        "id": "jLUrSqzGvoto"
      },
      "execution_count": null,
      "outputs": []
    },
    {
      "cell_type": "markdown",
      "source": [
        "2. 환전하는 코드를 작성\n",
        "- 변수 won, usd, exchange\n",
        "- 계산 won * usd\n"
      ],
      "metadata": {
        "id": "d0fm7wycuuUY"
      }
    },
    {
      "cell_type": "code",
      "source": [
        "usd = int(input(\"환전할 금액을 입력:\"))\n",
        "won = int(input(\"달러의 환율금액 입력(231031: 1372원)\"))\n",
        "exchange = won * usd\n",
        "print(f'환전하고 싶은 금액은 {usd}달러는 환율 {won}으로 계산해서, {exchange}원입니다.')"
      ],
      "metadata": {
        "colab": {
          "base_uri": "https://localhost:8080/"
        },
        "id": "F8AQAxeru-8Y",
        "outputId": "3c64bd95-c68a-4d55-e836-ff3b8fdd6c7f"
      },
      "execution_count": 8,
      "outputs": [
        {
          "output_type": "stream",
          "name": "stdout",
          "text": [
            "환전할 금액을 입력:500\n",
            "달러의 환율금액 입력(231031: 1372원)1372\n",
            "환전하고 싶은 금액은 500달러는 환율 1372으로 계산해서, 686000원입니다.\n"
          ]
        }
      ]
    },
    {
      "cell_type": "markdown",
      "source": [
        "3. 화씨를 섭씨로 섭씨를 화씨로 변경하느 코드\n",
        "- 화씨를 섭씨로 ℉ = ℃ *1.8 + 32\n",
        "- 섭씨를 화씨로 ℃ = = (\"℉ - 32) / 1.8\n",
        "- 변수 : 화씨 fahrenheit, 섭씨 celsius"
      ],
      "metadata": {
        "id": "ZtEtJL3gyJ3I"
      }
    },
    {
      "cell_type": "code",
      "source": [
        "fahrenheit = int(input(\"화씨를 입력하시오\"))\n",
        "celsius = (fahrenheit - 32) / 1.8\n",
        "print(celsius)\n"
      ],
      "metadata": {
        "colab": {
          "base_uri": "https://localhost:8080/"
        },
        "id": "X3hAQ663zdY_",
        "outputId": "2b11ee3f-23be-4392-f68d-76e64b211b48"
      },
      "execution_count": 9,
      "outputs": [
        {
          "output_type": "stream",
          "name": "stdout",
          "text": [
            "화씨를 입력하시오100\n",
            "37.77777777777778\n"
          ]
        }
      ]
    },
    {
      "cell_type": "code",
      "source": [
        "celsius = float(input(\"섭씨를 입력하시오.:\"))\n",
        "fahrenheit = celsius * 1.8 + 32\n",
        "print(fahrenheit)"
      ],
      "metadata": {
        "colab": {
          "base_uri": "https://localhost:8080/"
        },
        "id": "_tlliS380OYA",
        "outputId": "1fbe7295-8e8b-4341-9289-2a3b40fbc831"
      },
      "execution_count": 11,
      "outputs": [
        {
          "output_type": "stream",
          "name": "stdout",
          "text": [
            "섭씨를 입력하시오.:37.77777777777778\n",
            "100.0\n"
          ]
        }
      ]
    }
  ]
}